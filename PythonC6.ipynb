{
 "cells": [
  {
   "cell_type": "markdown",
   "id": "7e632480-6ab7-4217-a62a-b5a1bdc3625d",
   "metadata": {},
   "source": [
    "# Python\n",
    "\n",
    "## Variables\n",
    "\n",
    "### Les nombres"
   ]
  },
  {
   "cell_type": "code",
   "execution_count": 122,
   "id": "e89edd7f-4dbf-4f7f-b997-e2be60158aac",
   "metadata": {},
   "outputs": [
    {
     "name": "stdout",
     "output_type": "stream",
     "text": [
      "2\n"
     ]
    }
   ],
   "source": [
    "x = 2\n",
    "print(x)"
   ]
  },
  {
   "cell_type": "code",
   "execution_count": 123,
   "id": "8d7040bf-0cbe-4277-a4e1-b8e7115b655d",
   "metadata": {},
   "outputs": [
    {
     "name": "stdout",
     "output_type": "stream",
     "text": [
      "2\n"
     ]
    }
   ],
   "source": [
    "y = 1+1\n",
    "print(y)"
   ]
  },
  {
   "cell_type": "code",
   "execution_count": 124,
   "id": "77d3d7cb-032d-49c1-9812-03519899cb34",
   "metadata": {},
   "outputs": [
    {
     "name": "stdout",
     "output_type": "stream",
     "text": [
      "0.75\n"
     ]
    }
   ],
   "source": [
    "z = 3/4\n",
    "print(z)"
   ]
  },
  {
   "cell_type": "code",
   "execution_count": 125,
   "id": "2721f195-4e30-4c63-819d-dd4cea0c1789",
   "metadata": {},
   "outputs": [
    {
     "name": "stdout",
     "output_type": "stream",
     "text": [
      "hello world\n"
     ]
    }
   ],
   "source": [
    "x = \"hello world\"\n",
    "print(x)"
   ]
  },
  {
   "cell_type": "code",
   "execution_count": 126,
   "id": "14e985a6-d77a-43eb-963f-03537b2a5ac1",
   "metadata": {},
   "outputs": [
    {
     "name": "stdout",
     "output_type": "stream",
     "text": [
      "hello world\n"
     ]
    }
   ],
   "source": [
    "print(x)"
   ]
  },
  {
   "cell_type": "code",
   "execution_count": 127,
   "id": "ab2124da-a4ef-4c3e-9ba6-6f8a39c40912",
   "metadata": {},
   "outputs": [
    {
     "name": "stdout",
     "output_type": "stream",
     "text": [
      "0.5\n"
     ]
    }
   ],
   "source": [
    "x = 2.5\n",
    "y = 2\n",
    "print(x - y)"
   ]
  },
  {
   "cell_type": "markdown",
   "id": "8c7a681f-a172-4564-a4fe-74c483ff7ebe",
   "metadata": {},
   "source": [
    "### Les chaines de caractères"
   ]
  },
  {
   "cell_type": "code",
   "execution_count": 128,
   "id": "9a22e669-dbbb-4bef-b6e4-b6e4cdddc4aa",
   "metadata": {},
   "outputs": [
    {
     "name": "stdout",
     "output_type": "stream",
     "text": [
      "Hello World\n"
     ]
    }
   ],
   "source": [
    "chaine = \"Hello\"\n",
    "print(chaine + \" World\")\n"
   ]
  },
  {
   "cell_type": "code",
   "execution_count": 129,
   "id": "daf085f1-b789-4b91-ad42-4f846ac7e07f",
   "metadata": {},
   "outputs": [
    {
     "name": "stdout",
     "output_type": "stream",
     "text": [
      "HelloHelloHello\n"
     ]
    }
   ],
   "source": [
    "print(chaine * 3)\n"
   ]
  },
  {
   "cell_type": "code",
   "execution_count": 130,
   "id": "d2ffc65d-bd39-4007-b9d8-6b3e2b449dbf",
   "metadata": {},
   "outputs": [
    {
     "name": "stdout",
     "output_type": "stream",
     "text": [
      "Hello World, Hello World, Hello World, \n"
     ]
    }
   ],
   "source": [
    "print((chaine + \" World, \")*3)"
   ]
  },
  {
   "cell_type": "markdown",
   "id": "031c9d34-dd26-4869-9abc-a8f6ca823886",
   "metadata": {},
   "source": [
    "## listes\n",
    "\n",
    "\n",
    "\n"
   ]
  },
  {
   "cell_type": "code",
   "execution_count": 131,
   "id": "bac0a7d1-5468-44fa-b509-00539011ca1a",
   "metadata": {},
   "outputs": [
    {
     "name": "stdout",
     "output_type": "stream",
     "text": [
      "['girafe', 'tigre', 'singe', 'souris']\n"
     ]
    }
   ],
   "source": [
    "animaux = [\"girafe\", \"tigre\", \"singe\", \"souris\"]\n",
    "print(animaux)"
   ]
  },
  {
   "cell_type": "code",
   "execution_count": 132,
   "id": "4aa77481-13e9-4f16-aaa3-9e36a5ae61fb",
   "metadata": {},
   "outputs": [
    {
     "name": "stdout",
     "output_type": "stream",
     "text": [
      "girafe\n"
     ]
    }
   ],
   "source": [
    "print(animaux[0])"
   ]
  },
  {
   "cell_type": "code",
   "execution_count": 133,
   "id": "d9dffbd5-0bb2-449d-9da5-03e21b22147c",
   "metadata": {},
   "outputs": [
    {
     "name": "stdout",
     "output_type": "stream",
     "text": [
      "souris\n"
     ]
    }
   ],
   "source": [
    "print(animaux[3])"
   ]
  },
  {
   "cell_type": "markdown",
   "id": "f8743e5a-2e28-48d5-8c2e-7a6d5f5912ab",
   "metadata": {},
   "source": [
    "```python\n",
    "liste  : [\"girafe\", \"tigre\", \"singe\", \"souris\"]\n",
    "indice :        0        1        2         3\n",
    "```"
   ]
  },
  {
   "cell_type": "code",
   "execution_count": 134,
   "id": "45de6eaf-89c4-4e20-9592-c632b4db26d5",
   "metadata": {},
   "outputs": [
    {
     "ename": "IndexError",
     "evalue": "list index out of range",
     "output_type": "error",
     "traceback": [
      "\u001b[0;31m---------------------------------------------------------------------------\u001b[0m",
      "\u001b[0;31mIndexError\u001b[0m                                Traceback (most recent call last)",
      "Cell \u001b[0;32mIn[134], line 1\u001b[0m\n\u001b[0;32m----> 1\u001b[0m \u001b[43manimaux\u001b[49m\u001b[43m[\u001b[49m\u001b[38;5;241;43m4\u001b[39;49m\u001b[43m]\u001b[49m\n",
      "\u001b[0;31mIndexError\u001b[0m: list index out of range"
     ]
    }
   ],
   "source": [
    "animaux[4]"
   ]
  },
  {
   "cell_type": "code",
   "execution_count": 135,
   "id": "7635d594-a385-4f24-a695-2a3c1683253c",
   "metadata": {},
   "outputs": [
    {
     "name": "stdout",
     "output_type": "stream",
     "text": [
      "['girafe', 'tigre', 'singe', 'souris']\n"
     ]
    }
   ],
   "source": [
    "ani1 = [\"girafe\", \"tigre\"]\n",
    "ani2 = [\"singe\", \"souris\"]\n",
    "print(ani1+ani2)"
   ]
  },
  {
   "cell_type": "code",
   "execution_count": 136,
   "id": "7366be3b-a745-48f2-90d4-0d8d78fd1e88",
   "metadata": {},
   "outputs": [
    {
     "name": "stdout",
     "output_type": "stream",
     "text": [
      "girafe\n"
     ]
    }
   ],
   "source": [
    "animaux = ani1 + ani2\n",
    "print(animaux[0])"
   ]
  },
  {
   "cell_type": "code",
   "execution_count": 137,
   "id": "2da7ca3c-43f6-4a4b-af92-d947e6542abf",
   "metadata": {},
   "outputs": [
    {
     "name": "stdout",
     "output_type": "stream",
     "text": [
      "souris\n"
     ]
    }
   ],
   "source": [
    "print(animaux[3])"
   ]
  },
  {
   "cell_type": "markdown",
   "id": "f8e5cf04-b2e3-41ee-9e3f-cdb2b96eeed5",
   "metadata": {},
   "source": [
    "### Les listes et les tranches"
   ]
  },
  {
   "cell_type": "code",
   "execution_count": 138,
   "id": "cf130626-e77b-4c93-abcd-702cf2178df7",
   "metadata": {},
   "outputs": [
    {
     "name": "stdout",
     "output_type": "stream",
     "text": [
      "['girafe', 'tigre', 'singe']\n"
     ]
    }
   ],
   "source": [
    "animaux = [\"girafe\", \"tigre\", \"singe\", \"souris\"]\n",
    "print(animaux[0:3])"
   ]
  },
  {
   "cell_type": "code",
   "execution_count": 139,
   "id": "618132ff-0427-4fc3-88a5-f495c1202baf",
   "metadata": {},
   "outputs": [
    {
     "data": {
      "text/plain": [
       "['tigre', 'singe', 'souris']"
      ]
     },
     "execution_count": 139,
     "metadata": {},
     "output_type": "execute_result"
    }
   ],
   "source": [
    "animaux[1:4]"
   ]
  },
  {
   "cell_type": "markdown",
   "id": "bf6e3ac1-c8f0-4f89-9cf8-c4cc2a85e3c0",
   "metadata": {},
   "source": [
    "### La Fonction `len()` \n",
    "La longueur d'une liste :"
   ]
  },
  {
   "cell_type": "code",
   "execution_count": 140,
   "id": "a2224086-1ef4-4a41-a555-c2023a37c042",
   "metadata": {},
   "outputs": [
    {
     "data": {
      "text/plain": [
       "4"
      ]
     },
     "execution_count": 140,
     "metadata": {},
     "output_type": "execute_result"
    }
   ],
   "source": [
    "len(animaux)"
   ]
  },
  {
   "cell_type": "markdown",
   "id": "868b8b6c-442c-4b40-8569-eb58ffefa5b9",
   "metadata": {},
   "source": [
    "### Les fonctions `range()` et `list()` \n",
    "Classer, ranger, lister…"
   ]
  },
  {
   "cell_type": "code",
   "execution_count": 141,
   "id": "646a1b77-b12f-4fcb-bdb9-83307acaca5f",
   "metadata": {},
   "outputs": [
    {
     "data": {
      "text/plain": [
       "[0, 1, 2, 3, 4, 5, 6, 7, 8, 9]"
      ]
     },
     "execution_count": 141,
     "metadata": {},
     "output_type": "execute_result"
    }
   ],
   "source": [
    "list(range(10))"
   ]
  },
  {
   "cell_type": "code",
   "execution_count": 142,
   "id": "86c6061c-803a-4a8c-9a87-0fd6e0c32445",
   "metadata": {},
   "outputs": [
    {
     "data": {
      "text/plain": [
       "[0, 1, 2, 3, 4]"
      ]
     },
     "execution_count": 142,
     "metadata": {},
     "output_type": "execute_result"
    }
   ],
   "source": [
    "list(range(0, 5))"
   ]
  },
  {
   "cell_type": "code",
   "execution_count": null,
   "id": "9bfb3e47-11f6-46b1-a461-6eaae1d454e3",
   "metadata": {},
   "outputs": [],
   "source": []
  },
  {
   "cell_type": "markdown",
   "id": "01c67faa-f323-4b7f-a6b0-f52064682f92",
   "metadata": {},
   "source": [
    "#### Opérations sur les classements et les listes"
   ]
  },
  {
   "cell_type": "code",
   "execution_count": 143,
   "id": "f1e4b927-1250-494e-872c-714b4e312133",
   "metadata": {},
   "outputs": [
    {
     "name": "stdout",
     "output_type": "stream",
     "text": [
      "[0, 1, 2, 3, 4, 5, 6, 7, 8, 9, 10, 11, 12, 13, 14]\n"
     ]
    }
   ],
   "source": [
    "liste1 = list(range(15))\n",
    "print(liste1)"
   ]
  },
  {
   "cell_type": "code",
   "execution_count": null,
   "id": "22879af5-a38c-4228-b1bb-985a8a2bca77",
   "metadata": {},
   "outputs": [],
   "source": []
  },
  {
   "cell_type": "code",
   "execution_count": 144,
   "id": "5958fa97-9c10-45c9-afb4-eb7af159d7c1",
   "metadata": {},
   "outputs": [],
   "source": [
    "liste1 = list(range(10))"
   ]
  },
  {
   "cell_type": "code",
   "execution_count": 145,
   "id": "e222dd2a-2503-47b5-82c1-f10adec4652d",
   "metadata": {},
   "outputs": [
    {
     "data": {
      "text/plain": [
       "45"
      ]
     },
     "execution_count": 145,
     "metadata": {},
     "output_type": "execute_result"
    }
   ],
   "source": [
    "sum(liste1)"
   ]
  },
  {
   "cell_type": "code",
   "execution_count": 146,
   "id": "7f862d13-4dd0-40e4-b8fc-a181ed0bcdd2",
   "metadata": {},
   "outputs": [
    {
     "data": {
      "text/plain": [
       "0"
      ]
     },
     "execution_count": 146,
     "metadata": {},
     "output_type": "execute_result"
    }
   ],
   "source": [
    "min(liste1)"
   ]
  },
  {
   "cell_type": "code",
   "execution_count": 147,
   "id": "dea92aec-1aff-4f80-9f42-15c0f08f626c",
   "metadata": {},
   "outputs": [
    {
     "data": {
      "text/plain": [
       "9"
      ]
     },
     "execution_count": 147,
     "metadata": {},
     "output_type": "execute_result"
    }
   ],
   "source": [
    "max(liste1)"
   ]
  },
  {
   "cell_type": "markdown",
   "id": "f23417f3-02b2-42c8-9d68-8212620dbc12",
   "metadata": {},
   "source": [
    "## Boucles `for`\n",
    "\n",
    "En programmation, on est souvent amené à répéter plusieurs fois une instruction. Incontournables à tout langage de programmation, les boucles vont nous aider à réaliser cette tâche répétitive de manière compacte et efficace.\n",
    "\n",
    "Imaginez par exemple que vous souhaitiez afficher les éléments d'une liste les uns après les autres. Dans l'état actuel de vos connaissances, il faudrait taper quelque chose du style :\n",
    "\n"
   ]
  },
  {
   "cell_type": "code",
   "execution_count": 148,
   "id": "4bfca60b-2dba-4682-a3dc-1a9070cb43b6",
   "metadata": {},
   "outputs": [
    {
     "name": "stdout",
     "output_type": "stream",
     "text": [
      "girafe\n",
      "tigre\n",
      "singe\n",
      "souris\n"
     ]
    }
   ],
   "source": [
    "animaux = [\"girafe\", \"tigre\", \"singe\", \"souris\"]\n",
    "print(animaux[0])\n",
    "print(animaux[1])\n",
    "print(animaux[2])\n",
    "print(animaux[3])"
   ]
  },
  {
   "cell_type": "code",
   "execution_count": 149,
   "id": "0181cd82-66ac-4391-b50f-b5cb1313b8c9",
   "metadata": {},
   "outputs": [
    {
     "name": "stdout",
     "output_type": "stream",
     "text": [
      "girafe\n",
      "tigre\n",
      "singe\n",
      "souris\n"
     ]
    }
   ],
   "source": [
    "for animal in animaux:\n",
    "    print(animal)"
   ]
  },
  {
   "cell_type": "code",
   "execution_count": 150,
   "id": "4905507e-f84d-4c6a-acf1-2707b8e29e1f",
   "metadata": {},
   "outputs": [
    {
     "ename": "IndentationError",
     "evalue": "expected an indented block (3458205274.py, line 2)",
     "output_type": "error",
     "traceback": [
      "\u001b[0;36m  Cell \u001b[0;32mIn[150], line 2\u001b[0;36m\u001b[0m\n\u001b[0;31m    print(animal)\u001b[0m\n\u001b[0m    ^\u001b[0m\n\u001b[0;31mIndentationError\u001b[0m\u001b[0;31m:\u001b[0m expected an indented block\n"
     ]
    }
   ],
   "source": [
    "for animal in animaux:\n",
    "print(animal)"
   ]
  },
  {
   "cell_type": "markdown",
   "id": "a9952169-ad67-4d3c-b8f0-42f63b15d17f",
   "metadata": {},
   "source": [
    "La gestion des boucles `for`"
   ]
  },
  {
   "cell_type": "code",
   "execution_count": 160,
   "id": "77adeb2e-e9e5-4001-9d66-a38924fc0f9d",
   "metadata": {},
   "outputs": [
    {
     "name": "stdout",
     "output_type": "stream",
     "text": [
      "girafe\n",
      "tigre\n",
      "singe\n",
      "souris\n",
      "C'est fini\n"
     ]
    }
   ],
   "source": [
    "for animal in animaux:\n",
    "    print(animal)\n",
    "print(\"C'est fini\")"
   ]
  },
  {
   "cell_type": "code",
   "execution_count": 161,
   "id": "f816948c-4557-433d-a807-a5af370b1f7c",
   "metadata": {},
   "outputs": [
    {
     "name": "stdout",
     "output_type": "stream",
     "text": [
      "tigre\n",
      "singe\n"
     ]
    }
   ],
   "source": [
    "animaux = [\"girafe\", \"tigre\", \"singe\", \"souris\"]\n",
    "for animal in animaux[1:3]:\n",
    "    print(animal)"
   ]
  },
  {
   "cell_type": "markdown",
   "id": "b5fae603-7114-48b8-bfa1-ffb7f8ccfa6f",
   "metadata": {},
   "source": [
    "### La Fonction `range()` dans les boucles `for` "
   ]
  },
  {
   "cell_type": "code",
   "execution_count": 162,
   "id": "353cb483-01fc-4a52-b76f-94182325bc67",
   "metadata": {},
   "outputs": [
    {
     "name": "stdout",
     "output_type": "stream",
     "text": [
      "0\n",
      "1\n",
      "2\n",
      "3\n"
     ]
    }
   ],
   "source": [
    "for i in range(4):\n",
    "    print(i)"
   ]
  },
  {
   "cell_type": "code",
   "execution_count": 163,
   "id": "aded519c-102e-4e63-8cc0-222ce837a1a4",
   "metadata": {},
   "outputs": [
    {
     "name": "stdout",
     "output_type": "stream",
     "text": [
      "girafe\n",
      "tigre\n",
      "singe\n",
      "souris\n"
     ]
    }
   ],
   "source": [
    "animaux = [\"girafe\", \"tigre\", \"singe\", \"souris\"]\n",
    "for i in range(4):\n",
    "    print(animaux[i])"
   ]
  },
  {
   "cell_type": "code",
   "execution_count": 164,
   "id": "86f83d22-aee8-4510-9253-0c10ab83a4fc",
   "metadata": {},
   "outputs": [
    {
     "name": "stdout",
     "output_type": "stream",
     "text": [
      "L'animal 0 est un(e) girafe\n",
      "L'animal 1 est un(e) tigre\n",
      "L'animal 2 est un(e) singe\n",
      "L'animal 3 est un(e) souris\n"
     ]
    }
   ],
   "source": [
    "for i in range(len(animaux)):\n",
    "    print(f\"L'animal {i} est un(e) {animaux[i]}\")"
   ]
  },
  {
   "cell_type": "markdown",
   "id": "7f9c9aa3-6873-4b51-a0c2-1527e1206134",
   "metadata": {},
   "source": [
    "## Boucles `while` \n",
    "Une alternative à l'instruction for couramment utilisée en informatique est la boucle while. Avec ce type de boucle, une série d'instructions est exécutée tant qu'une condition est vraie. Par exemple :"
   ]
  },
  {
   "cell_type": "code",
   "execution_count": 165,
   "id": "9a5cac09-003a-456e-b4ea-56af82a03fba",
   "metadata": {},
   "outputs": [
    {
     "name": "stdout",
     "output_type": "stream",
     "text": [
      "1\n",
      "2\n",
      "3\n",
      "4\n"
     ]
    }
   ],
   "source": [
    "i = 1\n",
    "while i <= 4:\n",
    "    print(i)\n",
    "    i = i + 1"
   ]
  },
  {
   "cell_type": "code",
   "execution_count": 166,
   "id": "6da10842-ac4e-4a6b-a5ec-0213caadf87c",
   "metadata": {},
   "outputs": [
    {
     "name": "stdout",
     "output_type": "stream",
     "text": [
      "1\n",
      "3\n",
      "5\n",
      "7\n",
      "9\n"
     ]
    }
   ],
   "source": [
    "i = 1\n",
    "while i <= 10:\n",
    "    print(i)\n",
    "    i = i + 2"
   ]
  },
  {
   "cell_type": "code",
   "execution_count": 167,
   "id": "5bbc6742-d179-4497-8842-8709bb3778c3",
   "metadata": {},
   "outputs": [],
   "source": [
    "i = 0\n",
    "while i > 10:\n",
    "    print(\"Le Python c'est cool !\")"
   ]
  },
  {
   "cell_type": "markdown",
   "id": "f1aa59d4-2568-4e55-97be-6c6679c21b7c",
   "metadata": {},
   "source": [
    "Faites bien attention aux tests et à l'incrémentation que vous utilisez, car une erreur mène souvent à des « boucles infinies » qui ne s'arrêtent jamais. "
   ]
  },
  {
   "cell_type": "code",
   "execution_count": 169,
   "id": "1ad60384-842e-4c63-a74b-f1b7f6a7d6c5",
   "metadata": {},
   "outputs": [
    {
     "name": "stdin",
     "output_type": "stream",
     "text": [
      "Entrez un entier supérieur à 10 :  1\n",
      "Entrez un entier supérieur à 10 :  23\n"
     ]
    }
   ],
   "source": [
    "i = 0\n",
    "while i < 10:\n",
    "    reponse = input(\"Entrez un entier supérieur à 10 : \")\n",
    "    i = int(reponse)"
   ]
  },
  {
   "cell_type": "markdown",
   "id": "495bf774-92b1-4fb6-a28f-2ed6333cf093",
   "metadata": {},
   "source": [
    "## Les tests `if`, `elsif`, etc.\n",
    "\n",
    "Les tests sont un élément essentiel à tout langage informatique si on veut lui donner un peu de complexité car ils permettent à l'ordinateur de prendre des décisions. Pour cela, Python utilise l'instruction `if` ainsi qu'une comparaison que nous avons abordée au chapitre précédent. Voici un premier exemple :"
   ]
  },
  {
   "cell_type": "code",
   "execution_count": 170,
   "id": "c5b011f8-22ed-4f59-93ee-13c6cb75ea00",
   "metadata": {},
   "outputs": [
    {
     "name": "stdout",
     "output_type": "stream",
     "text": [
      "Le test est vrai !\n"
     ]
    }
   ],
   "source": [
    "x = 2\n",
    "if x == 2:\n",
    "    print(\"Le test est vrai !\")"
   ]
  },
  {
   "cell_type": "code",
   "execution_count": 171,
   "id": "065e0e94-186c-4e00-a8e4-5f696237ca64",
   "metadata": {},
   "outputs": [],
   "source": [
    "x = 2\n",
    "if x == 3:\n",
    "    print(\"Le test est vrai !\")"
   ]
  },
  {
   "cell_type": "markdown",
   "id": "aec82379-4280-4bf7-a5c5-9a3dcfc9a3cc",
   "metadata": {},
   "source": [
    "Plusieurs tests ensembles :"
   ]
  },
  {
   "cell_type": "code",
   "execution_count": 172,
   "id": "47d76bf3-6fb7-48a8-bbe5-f04a3cc02332",
   "metadata": {},
   "outputs": [
    {
     "name": "stdout",
     "output_type": "stream",
     "text": [
      "Le test est vrai !\n"
     ]
    }
   ],
   "source": [
    "x = 2\n",
    "if x == 2:\n",
    "    print(\"Le test est vrai !\")\n",
    "else:\n",
    "    print(\"Le test est faux !\")"
   ]
  },
  {
   "cell_type": "code",
   "execution_count": 173,
   "id": "02c2e95a-0cd5-4b6a-be92-686ba80ac781",
   "metadata": {},
   "outputs": [
    {
     "name": "stdout",
     "output_type": "stream",
     "text": [
      "Le test est faux !\n"
     ]
    }
   ],
   "source": [
    "x = 2\n",
    "if x == 4:\n",
    "    print(\"Le test est vrai !\")\n",
    "else:\n",
    "    print(\"Le test est faux !\")"
   ]
  },
  {
   "cell_type": "markdown",
   "id": "bc05a242-b83e-4b27-9e71-7e61e1f49992",
   "metadata": {},
   "source": [
    "Les tests plus complexe, choix aléatoire et usage du module `ramdom` :"
   ]
  },
  {
   "cell_type": "code",
   "execution_count": 174,
   "id": "2450eb31-caf0-415a-9a43-98587b6b0221",
   "metadata": {},
   "outputs": [
    {
     "name": "stdout",
     "output_type": "stream",
     "text": [
      "choix d'une adénine\n"
     ]
    }
   ],
   "source": [
    "import random\n",
    "base = random.choice([\"a\", \"t\", \"c\", \"g\"])\n",
    "if base == \"a\":\n",
    "    print(\"choix d'une adénine\")\n",
    "elif base == \"t\":\n",
    "    print(\"choix d'une thymine\")\n",
    "elif base == \"c\":\n",
    "    print(\"choix d'une cytosine\")\n",
    "elif base == \"g\":\n",
    "    print(\"choix d'une guanine\")"
   ]
  },
  {
   "cell_type": "markdown",
   "id": "ef6d7f19-c478-4520-b6aa-9fd13a24ac73",
   "metadata": {},
   "source": [
    "### Tests multiples"
   ]
  },
  {
   "cell_type": "code",
   "execution_count": 175,
   "id": "160d08cc-2533-4f82-8bad-8bfe7fec3f3f",
   "metadata": {},
   "outputs": [
    {
     "name": "stdout",
     "output_type": "stream",
     "text": [
      "le test est vrai\n"
     ]
    }
   ],
   "source": [
    "x = 2\n",
    "y = 2\n",
    "if x == 2 and y == 2:\n",
    "    print(\"le test est vrai\")\n"
   ]
  },
  {
   "attachments": {
    "b73dc86e-479e-42d3-a780-b8ebc47b6d5a.png": {
     "image/png": "[encoded data removed]"
    }
   },
   "cell_type": "markdown",
   "id": "7d497f7d-27c9-450b-920a-148c8f389b81",
   "metadata": {},
   "source": [
    "## Les fonctions \n",
    "\n",
    "En programmation, les fonctions sont très utiles pour réaliser plusieurs fois la même opération au sein d'un programme. Elles rendent également le code plus lisible et plus clair en le fractionnant en blocs logiques.\n",
    "\n",
    "Pour l'instant, une fonction est à vos yeux une sorte de « boîte noire » :\n",
    "\n",
    "- À laquelle vous passez aucune, une ou plusieurs variable(s) entre parenthèses. Ces variables sont appelées arguments. Il peut s'agir de n'importe quel type d'objet Python.\n",
    "- Qui effectue une action.\n",
    "- Qui renvoie un objet Python ou rien du tout.\n",
    "\n",
    "![schema_fonction.png](attachment:b73dc86e-479e-42d3-a780-b8ebc47b6d5a.png)"
   ]
  },
  {
   "cell_type": "code",
   "execution_count": 176,
   "id": "948da958-f1a6-4177-8189-ba7a3271233b",
   "metadata": {},
   "outputs": [
    {
     "data": {
      "text/plain": [
       "3"
      ]
     },
     "execution_count": 176,
     "metadata": {},
     "output_type": "execute_result"
    }
   ],
   "source": [
    "len([0, 1, 2])"
   ]
  },
  {
   "cell_type": "markdown",
   "id": "d651be2f-24f9-424b-adfe-848a7f261be6",
   "metadata": {},
   "source": [
    "Voici ce qu'il se passe :\n",
    "\n",
    "- vous appelez len() en lui passant une liste en argument (ici la liste [0, 1, 2]) ;\n",
    "- La fonction calcule la longueur de cette liste ;\n",
    "- Elle vous renvoie un entier égal à cette longueur."
   ]
  },
  {
   "cell_type": "markdown",
   "id": "1aec9807-a9f4-48d5-a154-774bf6b80ffb",
   "metadata": {},
   "source": [
    "Pour définir une fonction, Python utilise le mot-clé `def`. Si on souhaite que la fonction renvoie quelque chose, il faut utiliser le mot-clé `return`. Par exemple :"
   ]
  },
  {
   "cell_type": "code",
   "execution_count": 177,
   "id": "cbe9fa69-0658-479a-97c1-6fd9d7e1b3e5",
   "metadata": {},
   "outputs": [
    {
     "name": "stdout",
     "output_type": "stream",
     "text": [
      "4\n"
     ]
    }
   ],
   "source": [
    "def carre(x):\n",
    "    return x*2\n",
    "print(carre(2))\n"
   ]
  },
  {
   "cell_type": "code",
   "execution_count": 178,
   "id": "f923e319-c20c-4019-928c-5ec0f4f8a8bc",
   "metadata": {},
   "outputs": [
    {
     "name": "stdout",
     "output_type": "stream",
     "text": [
      "Hello World\n"
     ]
    }
   ],
   "source": [
    "def hello():\n",
    "    print(\"Hello World\")\n",
    "hello()"
   ]
  },
  {
   "cell_type": "markdown",
   "id": "01844d47-747a-4e19-a194-7c2adabd3638",
   "metadata": {},
   "source": [
    "### Fonctions et arguments de fonctions"
   ]
  },
  {
   "cell_type": "code",
   "execution_count": 179,
   "id": "44590ec2-84db-4d56-8dd2-b36d85f7d900",
   "metadata": {},
   "outputs": [
    {
     "data": {
      "text/plain": [
       "6"
      ]
     },
     "execution_count": 179,
     "metadata": {},
     "output_type": "execute_result"
    }
   ],
   "source": [
    "def fois(x, y):\n",
    "    return x*y\n",
    "fois(2, 3)"
   ]
  },
  {
   "cell_type": "code",
   "execution_count": null,
   "id": "d301e1d2-435f-4599-8854-322c99ed10a7",
   "metadata": {},
   "outputs": [],
   "source": []
  },
  {
   "cell_type": "code",
   "execution_count": null,
   "id": "cf3548dd-1722-4cbd-883f-55595f108dfb",
   "metadata": {},
   "outputs": [],
   "source": []
  }
 ],
 "metadata": {
  "kernelspec": {
   "display_name": "Python 3.9 commun",
   "language": "python",
   "name": "python39"
  },
  "language_info": {
   "codemirror_mode": {
    "name": "ipython",
    "version": 3
   },
   "file_extension": ".py",
   "mimetype": "text/x-python",
   "name": "python",
   "nbconvert_exporter": "python",
   "pygments_lexer": "ipython3",
   "version": "3.9.20"
  }
 },
 "nbformat": 4,
 "nbformat_minor": 5
}
